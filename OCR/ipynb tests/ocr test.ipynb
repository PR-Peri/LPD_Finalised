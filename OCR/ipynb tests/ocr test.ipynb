{
 "cells": [
  {
   "cell_type": "code",
   "execution_count": 1,
   "id": "d9f0c362",
   "metadata": {},
   "outputs": [],
   "source": [
    "import cv2\n",
    "import numpy as np\n",
    "import pandas as pd\n",
    "import matplotlib.pyplot as plt\n",
    "%matplotlib inline\n",
    "import glob\n",
    "import os"
   ]
  },
  {
   "cell_type": "code",
   "execution_count": 2,
   "id": "4bd6dcf5",
   "metadata": {},
   "outputs": [],
   "source": [
    "import pytesseract\n",
    "pytesseract.pytesseract.tesseract_cmd='C:\\\\Program Files\\\\Tesseract-OCR\\\\tesseract.exe'"
   ]
  },
  {
   "cell_type": "markdown",
   "id": "d018dc93",
   "metadata": {},
   "source": [
    "#simple testing "
   ]
  },
  {
   "cell_type": "code",
   "execution_count": 3,
   "id": "0e7952f9",
   "metadata": {},
   "outputs": [],
   "source": [
    "imgs = 'C:/Users/User/Documents/Vip/M_output'"
   ]
  },
  {
   "cell_type": "code",
   "execution_count": 4,
   "id": "4be0a86c",
   "metadata": {},
   "outputs": [],
   "source": [
    "img=cv2.imread('Cropped_4.png')\n",
    "cv2.imshow('sample img',img)\n",
    "cv2.waitKey(0)\n",
    "cv2.destroyAllWindows()"
   ]
  },
  {
   "cell_type": "code",
   "execution_count": 12,
   "id": "170d7046",
   "metadata": {},
   "outputs": [
    {
     "data": {
      "text/plain": [
       "-1"
      ]
     },
     "execution_count": 12,
     "metadata": {},
     "output_type": "execute_result"
    }
   ],
   "source": [
    "text = pytesseract.image_to_boxes(img)\n",
    "cv2.imshow('Result', img)\n",
    "cv2.waitKey(0)"
   ]
  },
  {
   "cell_type": "markdown",
   "id": "29281eef",
   "metadata": {},
   "source": [
    "# path verification"
   ]
  },
  {
   "cell_type": "code",
   "execution_count": 6,
   "id": "e6394725",
   "metadata": {},
   "outputs": [],
   "source": [
    "import glob\n",
    "from IPython.display import Image, display"
   ]
  },
  {
   "cell_type": "code",
   "execution_count": 7,
   "id": "9f762432",
   "metadata": {},
   "outputs": [],
   "source": [
    "path_for_license_plates = \"C:/Users/User/Documents/Vip/M_output/*\"\n",
    "list_license_plates = []\n",
    "predicted_license_plates = []\n"
   ]
  },
  {
   "cell_type": "code",
   "execution_count": 8,
   "id": "6ac75997",
   "metadata": {},
   "outputs": [
    {
     "name": "stdout",
     "output_type": "stream",
     "text": [
      "['C:/Users/User/Documents/Vip/M_output\\\\Cropped_1.png', 'C:/Users/User/Documents/Vip/M_output\\\\Cropped_10.png', 'C:/Users/User/Documents/Vip/M_output\\\\Cropped_11.png', 'C:/Users/User/Documents/Vip/M_output\\\\Cropped_12.png', 'C:/Users/User/Documents/Vip/M_output\\\\Cropped_13.png', 'C:/Users/User/Documents/Vip/M_output\\\\Cropped_14.png', 'C:/Users/User/Documents/Vip/M_output\\\\Cropped_15.png', 'C:/Users/User/Documents/Vip/M_output\\\\Cropped_16.png', 'C:/Users/User/Documents/Vip/M_output\\\\Cropped_17.png', 'C:/Users/User/Documents/Vip/M_output\\\\Cropped_18.png', 'C:/Users/User/Documents/Vip/M_output\\\\Cropped_19.png', 'C:/Users/User/Documents/Vip/M_output\\\\Cropped_2.png', 'C:/Users/User/Documents/Vip/M_output\\\\Cropped_20.png', 'C:/Users/User/Documents/Vip/M_output\\\\Cropped_21.png', 'C:/Users/User/Documents/Vip/M_output\\\\Cropped_22.png', 'C:/Users/User/Documents/Vip/M_output\\\\Cropped_23.png', 'C:/Users/User/Documents/Vip/M_output\\\\Cropped_24.png', 'C:/Users/User/Documents/Vip/M_output\\\\Cropped_25.png', 'C:/Users/User/Documents/Vip/M_output\\\\Cropped_26.png', 'C:/Users/User/Documents/Vip/M_output\\\\Cropped_27.png', 'C:/Users/User/Documents/Vip/M_output\\\\Cropped_28.png', 'C:/Users/User/Documents/Vip/M_output\\\\Cropped_29.png', 'C:/Users/User/Documents/Vip/M_output\\\\Cropped_3.png', 'C:/Users/User/Documents/Vip/M_output\\\\Cropped_30.png', 'C:/Users/User/Documents/Vip/M_output\\\\Cropped_4.png', 'C:/Users/User/Documents/Vip/M_output\\\\Cropped_5.png', 'C:/Users/User/Documents/Vip/M_output\\\\Cropped_6.png', 'C:/Users/User/Documents/Vip/M_output\\\\Cropped_7.png', 'C:/Users/User/Documents/Vip/M_output\\\\Cropped_8.png', 'C:/Users/User/Documents/Vip/M_output\\\\Cropped_9.png']\n",
      "30\n"
     ]
    }
   ],
   "source": [
    "#searching through the directory and printing out the list of file names\n",
    "file_list = glob.glob(path_for_license_plates)\n",
    "print(file_list)\n",
    "print(len(file_list))\n",
    "\n"
   ]
  },
  {
   "cell_type": "markdown",
   "id": "064c25a9",
   "metadata": {},
   "source": [
    "# testing\n"
   ]
  },
  {
   "cell_type": "code",
   "execution_count": 9,
   "id": "f3d7447a",
   "metadata": {},
   "outputs": [],
   "source": [
    "#read the file\n",
    "for path_to_license_plate in glob.glob(path_for_license_plates, recursive = True):\n",
    "      \n",
    "    license_plate_file = path_to_license_plate.split(\"/\")[-1]\n",
    "    license_plate_file = license_plate_file.split(\"\\\\\")[-1]\n",
    "  \n",
    "    license_plate, _ = os.path.splitext(license_plate_file)\n",
    "   \n",
    "    #Here we append the actual license plate to a list\n",
    "   \n",
    "    list_license_plates.append(license_plate)\n",
    "      \n",
    "    '''\n",
    "    Read each license plate image file using openCV\n",
    "    '''\n",
    "    img = cv2.imread(path_to_license_plate)\n",
    "      \n",
    "    predicted_result = pytesseract.image_to_string(img, lang='eng')\n",
    "      \n",
    "    filter_predicted_result = \"\".join(predicted_result.split()).replace(\":\", \"\").replace(\"-\", \"\")\n",
    "    predicted_license_plates.append(filter_predicted_result)"
   ]
  },
  {
   "cell_type": "code",
   "execution_count": null,
   "id": "45b93651",
   "metadata": {},
   "outputs": [],
   "source": [
    "print(predicted_license_plates)"
   ]
  },
  {
   "cell_type": "markdown",
   "id": "ed098e55",
   "metadata": {},
   "source": [
    "# Printing the output"
   ]
  },
  {
   "cell_type": "code",
   "execution_count": 11,
   "id": "1aca591f",
   "metadata": {},
   "outputs": [
    {
     "data": {
      "text/html": [
       "<div>\n",
       "<style scoped>\n",
       "    .dataframe tbody tr th:only-of-type {\n",
       "        vertical-align: middle;\n",
       "    }\n",
       "\n",
       "    .dataframe tbody tr th {\n",
       "        vertical-align: top;\n",
       "    }\n",
       "\n",
       "    .dataframe thead th {\n",
       "        text-align: right;\n",
       "    }\n",
       "</style>\n",
       "<table border=\"1\" class=\"dataframe\">\n",
       "  <thead>\n",
       "    <tr style=\"text-align: right;\">\n",
       "      <th></th>\n",
       "      <th>0</th>\n",
       "    </tr>\n",
       "  </thead>\n",
       "  <tbody>\n",
       "    <tr>\n",
       "      <th>Cropped_1</th>\n",
       "      <td>VBL7689</td>\n",
       "    </tr>\n",
       "    <tr>\n",
       "      <th>Cropped_10</th>\n",
       "      <td></td>\n",
       "    </tr>\n",
       "    <tr>\n",
       "      <th>Cropped_11</th>\n",
       "      <td></td>\n",
       "    </tr>\n",
       "    <tr>\n",
       "      <th>Cropped_12</th>\n",
       "      <td>BNQ8463</td>\n",
       "    </tr>\n",
       "    <tr>\n",
       "      <th>Cropped_13</th>\n",
       "      <td>OXs49“ie|</td>\n",
       "    </tr>\n",
       "    <tr>\n",
       "      <th>Cropped_14</th>\n",
       "      <td></td>\n",
       "    </tr>\n",
       "    <tr>\n",
       "      <th>Cropped_15</th>\n",
       "      <td>PGC6107,</td>\n",
       "    </tr>\n",
       "    <tr>\n",
       "      <th>Cropped_16</th>\n",
       "      <td>PNR6168</td>\n",
       "    </tr>\n",
       "    <tr>\n",
       "      <th>Cropped_17</th>\n",
       "      <td>MALAYSIA7984</td>\n",
       "    </tr>\n",
       "    <tr>\n",
       "      <th>Cropped_18</th>\n",
       "      <td>PLU8965</td>\n",
       "    </tr>\n",
       "    <tr>\n",
       "      <th>Cropped_19</th>\n",
       "      <td>_PKU6740_</td>\n",
       "    </tr>\n",
       "    <tr>\n",
       "      <th>Cropped_2</th>\n",
       "      <td>)PPF2308_|</td>\n",
       "    </tr>\n",
       "    <tr>\n",
       "      <th>Cropped_20</th>\n",
       "      <td>SS0pxmll22</td>\n",
       "    </tr>\n",
       "    <tr>\n",
       "      <th>Cropped_21</th>\n",
       "      <td></td>\n",
       "    </tr>\n",
       "    <tr>\n",
       "      <th>Cropped_22</th>\n",
       "      <td></td>\n",
       "    </tr>\n",
       "    <tr>\n",
       "      <th>Cropped_23</th>\n",
       "      <td>|PEU8497</td>\n",
       "    </tr>\n",
       "    <tr>\n",
       "      <th>Cropped_24</th>\n",
       "      <td>_PKH3490</td>\n",
       "    </tr>\n",
       "    <tr>\n",
       "      <th>Cropped_25</th>\n",
       "      <td>PKF2703</td>\n",
       "    </tr>\n",
       "    <tr>\n",
       "      <th>Cropped_26</th>\n",
       "      <td>PR3672</td>\n",
       "    </tr>\n",
       "    <tr>\n",
       "      <th>Cropped_27</th>\n",
       "      <td>LPC256</td>\n",
       "    </tr>\n",
       "    <tr>\n",
       "      <th>Cropped_28</th>\n",
       "      <td>|PLYS017</td>\n",
       "    </tr>\n",
       "    <tr>\n",
       "      <th>Cropped_29</th>\n",
       "      <td>ee,en</td>\n",
       "    </tr>\n",
       "    <tr>\n",
       "      <th>Cropped_3</th>\n",
       "      <td>PPP7698</td>\n",
       "    </tr>\n",
       "    <tr>\n",
       "      <th>Cropped_30</th>\n",
       "      <td>WV2854©</td>\n",
       "    </tr>\n",
       "    <tr>\n",
       "      <th>Cropped_4</th>\n",
       "      <td></td>\n",
       "    </tr>\n",
       "    <tr>\n",
       "      <th>Cropped_5</th>\n",
       "      <td>PLUS828</td>\n",
       "    </tr>\n",
       "    <tr>\n",
       "      <th>Cropped_6</th>\n",
       "      <td>PMN7595,</td>\n",
       "    </tr>\n",
       "    <tr>\n",
       "      <th>Cropped_7</th>\n",
       "      <td></td>\n",
       "    </tr>\n",
       "    <tr>\n",
       "      <th>Cropped_8</th>\n",
       "      <td></td>\n",
       "    </tr>\n",
       "    <tr>\n",
       "      <th>Cropped_9</th>\n",
       "      <td>AGR7840</td>\n",
       "    </tr>\n",
       "  </tbody>\n",
       "</table>\n",
       "</div>"
      ],
      "text/plain": [
       "                       0\n",
       "Cropped_1        VBL7689\n",
       "Cropped_10              \n",
       "Cropped_11              \n",
       "Cropped_12       BNQ8463\n",
       "Cropped_13     OXs49“ie|\n",
       "Cropped_14              \n",
       "Cropped_15      PGC6107,\n",
       "Cropped_16       PNR6168\n",
       "Cropped_17  MALAYSIA7984\n",
       "Cropped_18       PLU8965\n",
       "Cropped_19     _PKU6740_\n",
       "Cropped_2     )PPF2308_|\n",
       "Cropped_20    SS0pxmll22\n",
       "Cropped_21              \n",
       "Cropped_22              \n",
       "Cropped_23      |PEU8497\n",
       "Cropped_24      _PKH3490\n",
       "Cropped_25       PKF2703\n",
       "Cropped_26        PR3672\n",
       "Cropped_27        LPC256\n",
       "Cropped_28      |PLYS017\n",
       "Cropped_29         ee,en\n",
       "Cropped_3        PPP7698\n",
       "Cropped_30       WV2854©\n",
       "Cropped_4               \n",
       "Cropped_5        PLUS828\n",
       "Cropped_6       PMN7595,\n",
       "Cropped_7               \n",
       "Cropped_8               \n",
       "Cropped_9        AGR7840"
      ]
     },
     "execution_count": 11,
     "metadata": {},
     "output_type": "execute_result"
    }
   ],
   "source": [
    " \n",
    "df=pd.DataFrame(predicted_license_plates,list_license_plates)\n",
    "df"
   ]
  },
  {
   "cell_type": "code",
   "execution_count": 10,
   "id": "7a4c9c1c",
   "metadata": {},
   "outputs": [
    {
     "name": "stdout",
     "output_type": "stream",
     "text": [
      "Actual License Plate \t Predicted License Plate \t Accuracy\n",
      "-------------------- \t ----------------------- \t --------\n",
      "      Cropped_1 \t\t\t VBL7689 \t\t   0 %\n",
      "      Cropped_10 \t\t\t  \t\t   0 %\n",
      "      Cropped_11 \t\t\t  \t\t   0 %\n",
      "      Cropped_12 \t\t\t BNQ8463 \t\t   0 %\n",
      "      Cropped_13 \t\t\t OXs49“ie| \t\t   0 %\n",
      "      Cropped_14 \t\t\t  \t\t   0 %\n",
      "      Cropped_15 \t\t\t PGC6107, \t\t   0 %\n",
      "      Cropped_16 \t\t\t PNR6168 \t\t   0 %\n",
      "      Cropped_17 \t\t\t MALAYSIA7984 \t\t   0 %\n",
      "      Cropped_18 \t\t\t PLU8965 \t\t   0 %\n",
      "      Cropped_19 \t\t\t _PKU6740_ \t\t   0 %\n",
      "      Cropped_2 \t\t\t )PPF2308_| \t\t   0 %\n",
      "      Cropped_20 \t\t\t SS0pxmll22 \t\t   20.0%\n",
      "      Cropped_21 \t\t\t  \t\t   0 %\n",
      "      Cropped_22 \t\t\t  \t\t   0 %\n",
      "      Cropped_23 \t\t\t |PEU8497 \t\t   0 %\n",
      "      Cropped_24 \t\t\t _PKH3490 \t\t   0 %\n",
      "      Cropped_25 \t\t\t PKF2703 \t\t   0 %\n",
      "      Cropped_26 \t\t\t PR3672 \t\t   0 %\n",
      "      Cropped_27 \t\t\t LPC256 \t\t   0 %\n",
      "      Cropped_28 \t\t\t |PLYS017 \t\t   0 %\n",
      "      Cropped_29 \t\t\t ee,en \t\t   0 %\n",
      "      Cropped_3 \t\t\t PPP7698 \t\t   0 %\n",
      "      Cropped_30 \t\t\t WV2854© \t\t   0 %\n",
      "      Cropped_4 \t\t\t  \t\t   0 %\n",
      "      Cropped_5 \t\t\t PLUS828 \t\t   0 %\n",
      "      Cropped_6 \t\t\t PMN7595, \t\t   0 %\n",
      "      Cropped_7 \t\t\t  \t\t   0 %\n",
      "      Cropped_8 \t\t\t  \t\t   0 %\n",
      "      Cropped_9 \t\t\t AGR7840 \t\t   0 %\n"
     ]
    }
   ],
   "source": [
    "print(\"Actual License Plate\", \"\\t\", \"Predicted License Plate\", \"\\t\", \"Accuracy\")\n",
    "print(\"--------------------\", \"\\t\", \"-----------------------\", \"\\t\", \"--------\")\n",
    "  \n",
    "def calculate_predicted_accuracy(actual_list, predicted_list):\n",
    "    for actual_plate, predict_plate in zip(actual_list, predicted_list):\n",
    "        accuracy = \"0 %\"\n",
    "        num_matches = 0\n",
    "        if actual_plate == predict_plate:\n",
    "            accuracy = \"100 %\"\n",
    "        else:\n",
    "            if len(actual_plate) == len(predict_plate):\n",
    "                for a, p in zip(actual_plate, predict_plate):\n",
    "                    if a == p:\n",
    "                        num_matches += 1\n",
    "                accuracy = str(round((num_matches / len(actual_plate)), 2) * 100)\n",
    "                accuracy += \"%\"\n",
    "        print(\"     \", actual_plate, \"\\t\\t\\t\", predict_plate, \"\\t\\t  \", accuracy)\n",
    "  \n",
    "          \n",
    "calculate_predicted_accuracy(list_license_plates, predicted_license_plates)"
   ]
  },
  {
   "cell_type": "code",
   "execution_count": null,
   "id": "6bd4d4f0",
   "metadata": {},
   "outputs": [],
   "source": []
  }
 ],
 "metadata": {
  "kernelspec": {
   "display_name": "Python 3 (ipykernel)",
   "language": "python",
   "name": "python3"
  },
  "language_info": {
   "codemirror_mode": {
    "name": "ipython",
    "version": 3
   },
   "file_extension": ".py",
   "mimetype": "text/x-python",
   "name": "python",
   "nbconvert_exporter": "python",
   "pygments_lexer": "ipython3",
   "version": "3.9.7"
  }
 },
 "nbformat": 4,
 "nbformat_minor": 5
}
