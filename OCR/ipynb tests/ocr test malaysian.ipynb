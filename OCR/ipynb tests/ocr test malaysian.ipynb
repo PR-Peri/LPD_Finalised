{
 "cells": [
  {
   "cell_type": "code",
   "execution_count": 8,
   "id": "d9f0c362",
   "metadata": {},
   "outputs": [],
   "source": [
    "import cv2\n",
    "import numpy as np\n",
    "import pandas as pd\n",
    "import matplotlib.pyplot as plt\n",
    "%matplotlib inline\n",
    "import glob\n",
    "import os"
   ]
  },
  {
   "cell_type": "code",
   "execution_count": 9,
   "id": "4bd6dcf5",
   "metadata": {},
   "outputs": [],
   "source": [
    "import pytesseract\n",
    "pytesseract.pytesseract.tesseract_cmd='C:\\\\Program Files\\\\Tesseract-OCR\\\\tesseract.exe'"
   ]
  },
  {
   "cell_type": "markdown",
   "id": "cd5f6796",
   "metadata": {},
   "source": [
    "#simple testing "
   ]
  },
  {
   "cell_type": "code",
   "execution_count": null,
   "id": "0e7952f9",
   "metadata": {},
   "outputs": [],
   "source": [
    "imgs = 'C:/Users/User/Documents/Vip/M_output'"
   ]
  },
  {
   "cell_type": "code",
   "execution_count": 10,
   "id": "785f7105",
   "metadata": {},
   "outputs": [],
   "source": [
    "img=cv2.imread('Cropped_4.png')\n",
    "cv2.imshow('sample img',img)\n",
    "cv2.waitKey(0)\n",
    "cv2.destroyAllWindows()"
   ]
  },
  {
   "cell_type": "code",
   "execution_count": 11,
   "id": "36f39674",
   "metadata": {},
   "outputs": [
    {
     "name": "stdout",
     "output_type": "stream",
     "text": [
      "[ PLA2545~|\n",
      "\f",
      "\n"
     ]
    }
   ],
   "source": [
    "text = pytesseract.image_to_string(img, lang ='eng', config ='--psm 11')\n",
    "print(text)"
   ]
  },
  {
   "cell_type": "markdown",
   "id": "ab7ee0a8",
   "metadata": {},
   "source": [
    "# path verification"
   ]
  },
  {
   "cell_type": "code",
   "execution_count": 12,
   "id": "6afd7a2d",
   "metadata": {},
   "outputs": [],
   "source": [
    "import glob\n",
    "from IPython.display import Image, display"
   ]
  },
  {
   "cell_type": "code",
   "execution_count": 13,
   "id": "2ebbcc13",
   "metadata": {},
   "outputs": [],
   "source": [
    "#path_for_license_plates = \"C:/Users/User/Documents/Vip/M_output/*\"\n",
    "path_for_license_plates = \"C:/Users/User/Documents/Vip/Msia_Cropped/*\"\n",
    "list_license_plates = []\n",
    "predicted_license_plates = []\n"
   ]
  },
  {
   "cell_type": "code",
   "execution_count": 14,
   "id": "afa12318",
   "metadata": {},
   "outputs": [
    {
     "name": "stdout",
     "output_type": "stream",
     "text": [
      "['C:/Users/User/Documents/Vip/Msia_Cropped\\\\Cropped_1.png', 'C:/Users/User/Documents/Vip/Msia_Cropped\\\\Cropped_10.png', 'C:/Users/User/Documents/Vip/Msia_Cropped\\\\Cropped_11.png', 'C:/Users/User/Documents/Vip/Msia_Cropped\\\\Cropped_12.png', 'C:/Users/User/Documents/Vip/Msia_Cropped\\\\Cropped_13.png', 'C:/Users/User/Documents/Vip/Msia_Cropped\\\\Cropped_14.png', 'C:/Users/User/Documents/Vip/Msia_Cropped\\\\Cropped_15.png', 'C:/Users/User/Documents/Vip/Msia_Cropped\\\\Cropped_16.png', 'C:/Users/User/Documents/Vip/Msia_Cropped\\\\Cropped_17.png', 'C:/Users/User/Documents/Vip/Msia_Cropped\\\\Cropped_18.png', 'C:/Users/User/Documents/Vip/Msia_Cropped\\\\Cropped_19.png', 'C:/Users/User/Documents/Vip/Msia_Cropped\\\\Cropped_2.png', 'C:/Users/User/Documents/Vip/Msia_Cropped\\\\Cropped_20.png', 'C:/Users/User/Documents/Vip/Msia_Cropped\\\\Cropped_21.png', 'C:/Users/User/Documents/Vip/Msia_Cropped\\\\Cropped_22.png', 'C:/Users/User/Documents/Vip/Msia_Cropped\\\\Cropped_23.png', 'C:/Users/User/Documents/Vip/Msia_Cropped\\\\Cropped_24.png', 'C:/Users/User/Documents/Vip/Msia_Cropped\\\\Cropped_25.png', 'C:/Users/User/Documents/Vip/Msia_Cropped\\\\Cropped_26.png', 'C:/Users/User/Documents/Vip/Msia_Cropped\\\\Cropped_27.png', 'C:/Users/User/Documents/Vip/Msia_Cropped\\\\Cropped_28.png', 'C:/Users/User/Documents/Vip/Msia_Cropped\\\\Cropped_29.png', 'C:/Users/User/Documents/Vip/Msia_Cropped\\\\Cropped_3.png', 'C:/Users/User/Documents/Vip/Msia_Cropped\\\\Cropped_30.png', 'C:/Users/User/Documents/Vip/Msia_Cropped\\\\Cropped_31.png', 'C:/Users/User/Documents/Vip/Msia_Cropped\\\\Cropped_32.png', 'C:/Users/User/Documents/Vip/Msia_Cropped\\\\Cropped_33.png', 'C:/Users/User/Documents/Vip/Msia_Cropped\\\\Cropped_34.png', 'C:/Users/User/Documents/Vip/Msia_Cropped\\\\Cropped_35.png', 'C:/Users/User/Documents/Vip/Msia_Cropped\\\\Cropped_36.png', 'C:/Users/User/Documents/Vip/Msia_Cropped\\\\Cropped_37.png', 'C:/Users/User/Documents/Vip/Msia_Cropped\\\\Cropped_38.png', 'C:/Users/User/Documents/Vip/Msia_Cropped\\\\Cropped_39.png', 'C:/Users/User/Documents/Vip/Msia_Cropped\\\\Cropped_4.png', 'C:/Users/User/Documents/Vip/Msia_Cropped\\\\Cropped_40.png', 'C:/Users/User/Documents/Vip/Msia_Cropped\\\\Cropped_41.png', 'C:/Users/User/Documents/Vip/Msia_Cropped\\\\Cropped_42.png', 'C:/Users/User/Documents/Vip/Msia_Cropped\\\\Cropped_43.png', 'C:/Users/User/Documents/Vip/Msia_Cropped\\\\Cropped_44.png', 'C:/Users/User/Documents/Vip/Msia_Cropped\\\\Cropped_45.png', 'C:/Users/User/Documents/Vip/Msia_Cropped\\\\Cropped_46.png', 'C:/Users/User/Documents/Vip/Msia_Cropped\\\\Cropped_47.png', 'C:/Users/User/Documents/Vip/Msia_Cropped\\\\Cropped_48.png', 'C:/Users/User/Documents/Vip/Msia_Cropped\\\\Cropped_49.png', 'C:/Users/User/Documents/Vip/Msia_Cropped\\\\Cropped_5.png', 'C:/Users/User/Documents/Vip/Msia_Cropped\\\\Cropped_50.png', 'C:/Users/User/Documents/Vip/Msia_Cropped\\\\Cropped_51.png', 'C:/Users/User/Documents/Vip/Msia_Cropped\\\\Cropped_52.png', 'C:/Users/User/Documents/Vip/Msia_Cropped\\\\Cropped_53.png', 'C:/Users/User/Documents/Vip/Msia_Cropped\\\\Cropped_54.png', 'C:/Users/User/Documents/Vip/Msia_Cropped\\\\Cropped_55.png', 'C:/Users/User/Documents/Vip/Msia_Cropped\\\\Cropped_56.png', 'C:/Users/User/Documents/Vip/Msia_Cropped\\\\Cropped_57.png', 'C:/Users/User/Documents/Vip/Msia_Cropped\\\\Cropped_58.png', 'C:/Users/User/Documents/Vip/Msia_Cropped\\\\Cropped_59.png', 'C:/Users/User/Documents/Vip/Msia_Cropped\\\\Cropped_6.png', 'C:/Users/User/Documents/Vip/Msia_Cropped\\\\Cropped_60.png', 'C:/Users/User/Documents/Vip/Msia_Cropped\\\\Cropped_61.png', 'C:/Users/User/Documents/Vip/Msia_Cropped\\\\Cropped_62.png', 'C:/Users/User/Documents/Vip/Msia_Cropped\\\\Cropped_63.png', 'C:/Users/User/Documents/Vip/Msia_Cropped\\\\Cropped_64.png', 'C:/Users/User/Documents/Vip/Msia_Cropped\\\\Cropped_65.png', 'C:/Users/User/Documents/Vip/Msia_Cropped\\\\Cropped_66.png', 'C:/Users/User/Documents/Vip/Msia_Cropped\\\\Cropped_67.png', 'C:/Users/User/Documents/Vip/Msia_Cropped\\\\Cropped_68.png', 'C:/Users/User/Documents/Vip/Msia_Cropped\\\\Cropped_69.png', 'C:/Users/User/Documents/Vip/Msia_Cropped\\\\Cropped_7.png', 'C:/Users/User/Documents/Vip/Msia_Cropped\\\\Cropped_70.png', 'C:/Users/User/Documents/Vip/Msia_Cropped\\\\Cropped_71.png', 'C:/Users/User/Documents/Vip/Msia_Cropped\\\\Cropped_72.png', 'C:/Users/User/Documents/Vip/Msia_Cropped\\\\Cropped_73.png', 'C:/Users/User/Documents/Vip/Msia_Cropped\\\\Cropped_74.png', 'C:/Users/User/Documents/Vip/Msia_Cropped\\\\Cropped_75.png', 'C:/Users/User/Documents/Vip/Msia_Cropped\\\\Cropped_76.png', 'C:/Users/User/Documents/Vip/Msia_Cropped\\\\Cropped_8.png', 'C:/Users/User/Documents/Vip/Msia_Cropped\\\\Cropped_9.png']\n",
      "76\n"
     ]
    }
   ],
   "source": [
    "#searching through the directory and printing out the list of file names\n",
    "file_list = glob.glob(path_for_license_plates)\n",
    "print(file_list)\n",
    "print(len(file_list))\n",
    "\n"
   ]
  },
  {
   "cell_type": "markdown",
   "id": "64ba815b",
   "metadata": {},
   "source": [
    "# testing\n"
   ]
  },
  {
   "cell_type": "code",
   "execution_count": 15,
   "id": "b5031fe0",
   "metadata": {},
   "outputs": [],
   "source": [
    "#read the file\n",
    "for path_to_license_plate in glob.glob(path_for_license_plates, recursive = True):\n",
    "      \n",
    "    license_plate_file2 = path_to_license_plate.split(\"/\")[-1]\n",
    "    license_plate_file1 = license_plate_file2.split(\"\\\\\")[-1]\n",
    "    license_plate_file = license_plate_file1.split(\"_\")[-1]\n",
    "  \n",
    "    license_plate, _ = os.path.splitext(license_plate_file)\n",
    "   \n",
    "    #Here we append the actual license plate to a list\n",
    "   \n",
    "    list_license_plates.append(license_plate)\n",
    "      \n",
    "    '''\n",
    "    Read each license plate image file using openCV\n",
    "    '''\n",
    "    img = cv2.imread(path_to_license_plate)\n",
    "      \n",
    "    predicted_result = pytesseract.image_to_string(img, lang='eng',config ='--psm 11')\n",
    "      \n",
    "    filter_predicted_result = \"\".join(predicted_result.split()).replace(\":\", \"\").replace(\"-\", \"\")\n",
    "    predicted_license_plates.append(filter_predicted_result)"
   ]
  },
  {
   "cell_type": "code",
   "execution_count": 16,
   "id": "ac88bfcd",
   "metadata": {},
   "outputs": [
    {
     "name": "stdout",
     "output_type": "stream",
     "text": [
      "['MAH41|', 'BUY6688_', '|NCHTL', 'ADW8887', 'ip)==WA!)', '', '|DlE394PLE5334', '', '', 'OATS3Bil', 'Pe,KB', 'VBL7689', 'PMN7595,', 'ou75°', 'xgWe', 'BAG1130', 'PGI', '|BNA9435|', '', '‘SMSBOS', '', '', ')PPF2308_|', '', 'PH8170°', 'yK00535', 'AGR7840', '', 'EQ', 'BNQ8463', '|Re”|JC1945', '', '_AKB7568', 'PPP7698', '|PPX3454|', '|PFGTUG', '', '|PPR.PPR7135', 'PCL7204', 'PNT2080', 'PGC6107,', '—AKE1728', '_PNN6076.', 'PNR6168', '[PLA2545~|', '=MALAYSIA7984', 'PLU8965', 'PMT1209\"', 'BDV9090.', '', '', '43%pP', '', 'PPB154!', '<T]<i', 'PLUS828', 'VEK6340', 'PPF5639|', '|?pV996!\\\\', '', '|PEU8497', '_PKH3490', 'PKF2703', '', 'PUR3672', '', 'VW1054', '|PLYS017', '', 'ee,45OCE', 'PNS7501__|', 'qUAIOC8WUA1623|', 'ee', 'KY2621|', '', 'WA5066R']\n"
     ]
    }
   ],
   "source": [
    "print(predicted_license_plates)"
   ]
  },
  {
   "cell_type": "markdown",
   "id": "f42e8278",
   "metadata": {},
   "source": [
    "# Printing the output"
   ]
  },
  {
   "cell_type": "code",
   "execution_count": 47,
   "id": "782149be",
   "metadata": {},
   "outputs": [],
   "source": [
    "df1 = pd.DataFrame({'a':list_license_plates,\n",
    "                   'b':predicted_license_plates})"
   ]
  },
  {
   "cell_type": "code",
   "execution_count": 48,
   "id": "5626b4e4",
   "metadata": {},
   "outputs": [
    {
     "data": {
      "text/html": [
       "<div>\n",
       "<style scoped>\n",
       "    .dataframe tbody tr th:only-of-type {\n",
       "        vertical-align: middle;\n",
       "    }\n",
       "\n",
       "    .dataframe tbody tr th {\n",
       "        vertical-align: top;\n",
       "    }\n",
       "\n",
       "    .dataframe thead th {\n",
       "        text-align: right;\n",
       "    }\n",
       "</style>\n",
       "<table border=\"1\" class=\"dataframe\">\n",
       "  <thead>\n",
       "    <tr style=\"text-align: right;\">\n",
       "      <th></th>\n",
       "      <th>a</th>\n",
       "      <th>b</th>\n",
       "    </tr>\n",
       "  </thead>\n",
       "  <tbody>\n",
       "    <tr>\n",
       "      <th>0</th>\n",
       "      <td>1</td>\n",
       "      <td>MAH41|</td>\n",
       "    </tr>\n",
       "    <tr>\n",
       "      <th>1</th>\n",
       "      <td>10</td>\n",
       "      <td>BUY6688_</td>\n",
       "    </tr>\n",
       "    <tr>\n",
       "      <th>2</th>\n",
       "      <td>11</td>\n",
       "      <td>|NCHTL</td>\n",
       "    </tr>\n",
       "    <tr>\n",
       "      <th>3</th>\n",
       "      <td>12</td>\n",
       "      <td>ADW8887</td>\n",
       "    </tr>\n",
       "    <tr>\n",
       "      <th>4</th>\n",
       "      <td>13</td>\n",
       "      <td>ip)==WA!)</td>\n",
       "    </tr>\n",
       "    <tr>\n",
       "      <th>...</th>\n",
       "      <td>...</td>\n",
       "      <td>...</td>\n",
       "    </tr>\n",
       "    <tr>\n",
       "      <th>71</th>\n",
       "      <td>74</td>\n",
       "      <td>qUAIOC8WUA1623|</td>\n",
       "    </tr>\n",
       "    <tr>\n",
       "      <th>72</th>\n",
       "      <td>75</td>\n",
       "      <td>ee</td>\n",
       "    </tr>\n",
       "    <tr>\n",
       "      <th>73</th>\n",
       "      <td>76</td>\n",
       "      <td>KY2621|</td>\n",
       "    </tr>\n",
       "    <tr>\n",
       "      <th>74</th>\n",
       "      <td>8</td>\n",
       "      <td></td>\n",
       "    </tr>\n",
       "    <tr>\n",
       "      <th>75</th>\n",
       "      <td>9</td>\n",
       "      <td>WA5066R</td>\n",
       "    </tr>\n",
       "  </tbody>\n",
       "</table>\n",
       "<p>76 rows × 2 columns</p>\n",
       "</div>"
      ],
      "text/plain": [
       "     a                b\n",
       "0    1           MAH41|\n",
       "1   10         BUY6688_\n",
       "2   11           |NCHTL\n",
       "3   12          ADW8887\n",
       "4   13        ip)==WA!)\n",
       "..  ..              ...\n",
       "71  74  qUAIOC8WUA1623|\n",
       "72  75               ee\n",
       "73  76          KY2621|\n",
       "74   8                 \n",
       "75   9          WA5066R\n",
       "\n",
       "[76 rows x 2 columns]"
      ]
     },
     "execution_count": 48,
     "metadata": {},
     "output_type": "execute_result"
    }
   ],
   "source": [
    "df1"
   ]
  },
  {
   "cell_type": "code",
   "execution_count": 49,
   "id": "80a7ea60",
   "metadata": {},
   "outputs": [
    {
     "data": {
      "text/html": [
       "<div>\n",
       "<style scoped>\n",
       "    .dataframe tbody tr th:only-of-type {\n",
       "        vertical-align: middle;\n",
       "    }\n",
       "\n",
       "    .dataframe tbody tr th {\n",
       "        vertical-align: top;\n",
       "    }\n",
       "\n",
       "    .dataframe thead th {\n",
       "        text-align: right;\n",
       "    }\n",
       "</style>\n",
       "<table border=\"1\" class=\"dataframe\">\n",
       "  <thead>\n",
       "    <tr style=\"text-align: right;\">\n",
       "      <th></th>\n",
       "      <th>a</th>\n",
       "      <th>b</th>\n",
       "    </tr>\n",
       "  </thead>\n",
       "  <tbody>\n",
       "    <tr>\n",
       "      <th>0</th>\n",
       "      <td>1</td>\n",
       "      <td>MAH41|</td>\n",
       "    </tr>\n",
       "    <tr>\n",
       "      <th>11</th>\n",
       "      <td>2</td>\n",
       "      <td>VBL7689</td>\n",
       "    </tr>\n",
       "    <tr>\n",
       "      <th>22</th>\n",
       "      <td>3</td>\n",
       "      <td>)PPF2308_|</td>\n",
       "    </tr>\n",
       "    <tr>\n",
       "      <th>33</th>\n",
       "      <td>4</td>\n",
       "      <td>PPP7698</td>\n",
       "    </tr>\n",
       "    <tr>\n",
       "      <th>44</th>\n",
       "      <td>5</td>\n",
       "      <td>[PLA2545~|</td>\n",
       "    </tr>\n",
       "    <tr>\n",
       "      <th>...</th>\n",
       "      <td>...</td>\n",
       "      <td>...</td>\n",
       "    </tr>\n",
       "    <tr>\n",
       "      <th>69</th>\n",
       "      <td>72</td>\n",
       "      <td>ee,45OCE</td>\n",
       "    </tr>\n",
       "    <tr>\n",
       "      <th>70</th>\n",
       "      <td>73</td>\n",
       "      <td>PNS7501__|</td>\n",
       "    </tr>\n",
       "    <tr>\n",
       "      <th>71</th>\n",
       "      <td>74</td>\n",
       "      <td>qUAIOC8WUA1623|</td>\n",
       "    </tr>\n",
       "    <tr>\n",
       "      <th>72</th>\n",
       "      <td>75</td>\n",
       "      <td>ee</td>\n",
       "    </tr>\n",
       "    <tr>\n",
       "      <th>73</th>\n",
       "      <td>76</td>\n",
       "      <td>KY2621|</td>\n",
       "    </tr>\n",
       "  </tbody>\n",
       "</table>\n",
       "<p>76 rows × 2 columns</p>\n",
       "</div>"
      ],
      "text/plain": [
       "     a                b\n",
       "0    1           MAH41|\n",
       "11   2          VBL7689\n",
       "22   3       )PPF2308_|\n",
       "33   4          PPP7698\n",
       "44   5       [PLA2545~|\n",
       "..  ..              ...\n",
       "69  72         ee,45OCE\n",
       "70  73       PNS7501__|\n",
       "71  74  qUAIOC8WUA1623|\n",
       "72  75               ee\n",
       "73  76          KY2621|\n",
       "\n",
       "[76 rows x 2 columns]"
      ]
     },
     "execution_count": 49,
     "metadata": {},
     "output_type": "execute_result"
    }
   ],
   "source": [
    "df1['a'] = df1['a'].astype(int)\n",
    "df2 = df1.sort_values(by=['a'])\n",
    "df2"
   ]
  },
  {
   "cell_type": "code",
   "execution_count": 51,
   "id": "1ef88c50",
   "metadata": {},
   "outputs": [
    {
     "name": "stdout",
     "output_type": "stream",
     "text": [
      "a     int32\n",
      "b    object\n",
      "dtype: object\n"
     ]
    }
   ],
   "source": [
    "df2.set_index('a')\n",
    "print(df2.dtypes)"
   ]
  },
  {
   "cell_type": "markdown",
   "id": "a6bfb625",
   "metadata": {},
   "source": [
    "# evaluation"
   ]
  },
  {
   "cell_type": "code",
   "execution_count": 17,
   "id": "b568d4fd",
   "metadata": {},
   "outputs": [
    {
     "name": "stdout",
     "output_type": "stream",
     "text": [
      "Actual License Plate \t Predicted License Plate \t Accuracy\n",
      "-------------------- \t ----------------------- \t --------\n",
      "      1 \t\t\t MAH41| \t\t   0 %\n",
      "      10 \t\t\t BUY6688_ \t\t   0 %\n",
      "      11 \t\t\t |NCHTL \t\t   0 %\n",
      "      12 \t\t\t ADW8887 \t\t   0 %\n",
      "      13 \t\t\t ip)==WA!) \t\t   0 %\n",
      "      14 \t\t\t  \t\t   0 %\n",
      "      15 \t\t\t |DlE394PLE5334 \t\t   0 %\n",
      "      16 \t\t\t  \t\t   0 %\n",
      "      17 \t\t\t  \t\t   0 %\n",
      "      18 \t\t\t OATS3Bil \t\t   0 %\n",
      "      19 \t\t\t Pe,KB \t\t   0 %\n",
      "      2 \t\t\t VBL7689 \t\t   0 %\n",
      "      20 \t\t\t PMN7595, \t\t   0 %\n",
      "      21 \t\t\t ou75° \t\t   0 %\n",
      "      22 \t\t\t xgWe \t\t   0 %\n",
      "      23 \t\t\t BAG1130 \t\t   0 %\n",
      "      24 \t\t\t PGI \t\t   0 %\n",
      "      25 \t\t\t |BNA9435| \t\t   0 %\n",
      "      26 \t\t\t  \t\t   0 %\n",
      "      27 \t\t\t ‘SMSBOS \t\t   0 %\n",
      "      28 \t\t\t  \t\t   0 %\n",
      "      29 \t\t\t  \t\t   0 %\n",
      "      3 \t\t\t )PPF2308_| \t\t   0 %\n",
      "      30 \t\t\t  \t\t   0 %\n",
      "      31 \t\t\t PH8170° \t\t   0 %\n",
      "      32 \t\t\t yK00535 \t\t   0 %\n",
      "      33 \t\t\t AGR7840 \t\t   0 %\n",
      "      34 \t\t\t  \t\t   0 %\n",
      "      35 \t\t\t EQ \t\t   0.0%\n",
      "      36 \t\t\t BNQ8463 \t\t   0 %\n",
      "      37 \t\t\t |Re”|JC1945 \t\t   0 %\n",
      "      38 \t\t\t  \t\t   0 %\n",
      "      39 \t\t\t _AKB7568 \t\t   0 %\n",
      "      4 \t\t\t PPP7698 \t\t   0 %\n",
      "      40 \t\t\t |PPX3454| \t\t   0 %\n",
      "      41 \t\t\t |PFGTUG \t\t   0 %\n",
      "      42 \t\t\t  \t\t   0 %\n",
      "      43 \t\t\t |PPR.PPR7135 \t\t   0 %\n",
      "      44 \t\t\t PCL7204 \t\t   0 %\n",
      "      45 \t\t\t PNT2080 \t\t   0 %\n",
      "      46 \t\t\t PGC6107, \t\t   0 %\n",
      "      47 \t\t\t —AKE1728 \t\t   0 %\n",
      "      48 \t\t\t _PNN6076. \t\t   0 %\n",
      "      49 \t\t\t PNR6168 \t\t   0 %\n",
      "      5 \t\t\t [PLA2545~| \t\t   0 %\n",
      "      50 \t\t\t =MALAYSIA7984 \t\t   0 %\n",
      "      51 \t\t\t PLU8965 \t\t   0 %\n",
      "      52 \t\t\t PMT1209\" \t\t   0 %\n",
      "      53 \t\t\t BDV9090. \t\t   0 %\n",
      "      54 \t\t\t  \t\t   0 %\n",
      "      55 \t\t\t  \t\t   0 %\n",
      "      56 \t\t\t 43%pP \t\t   0 %\n",
      "      57 \t\t\t  \t\t   0 %\n",
      "      58 \t\t\t PPB154! \t\t   0 %\n",
      "      59 \t\t\t <T]<i \t\t   0 %\n",
      "      6 \t\t\t PLUS828 \t\t   0 %\n",
      "      60 \t\t\t VEK6340 \t\t   0 %\n",
      "      61 \t\t\t PPF5639| \t\t   0 %\n",
      "      62 \t\t\t |?pV996!\\ \t\t   0 %\n",
      "      63 \t\t\t  \t\t   0 %\n",
      "      64 \t\t\t |PEU8497 \t\t   0 %\n",
      "      65 \t\t\t _PKH3490 \t\t   0 %\n",
      "      66 \t\t\t PKF2703 \t\t   0 %\n",
      "      67 \t\t\t  \t\t   0 %\n",
      "      68 \t\t\t PUR3672 \t\t   0 %\n",
      "      69 \t\t\t  \t\t   0 %\n",
      "      7 \t\t\t VW1054 \t\t   0 %\n",
      "      70 \t\t\t |PLYS017 \t\t   0 %\n",
      "      71 \t\t\t  \t\t   0 %\n",
      "      72 \t\t\t ee,45OCE \t\t   0 %\n",
      "      73 \t\t\t PNS7501__| \t\t   0 %\n",
      "      74 \t\t\t qUAIOC8WUA1623| \t\t   0 %\n",
      "      75 \t\t\t ee \t\t   0.0%\n",
      "      76 \t\t\t KY2621| \t\t   0 %\n",
      "      8 \t\t\t  \t\t   0 %\n",
      "      9 \t\t\t WA5066R \t\t   0 %\n"
     ]
    }
   ],
   "source": [
    "print(\"Actual License Plate\", \"\\t\", \"Predicted License Plate\", \"\\t\", \"Accuracy\")\n",
    "print(\"--------------------\", \"\\t\", \"-----------------------\", \"\\t\", \"--------\")\n",
    "  \n",
    "def calculate_predicted_accuracy(actual_list, predicted_list):\n",
    "    for actual_plate, predict_plate in zip(actual_list, predicted_list):\n",
    "        accuracy = \"0 %\"\n",
    "        num_matches = 0\n",
    "        if actual_plate == predict_plate:\n",
    "            accuracy = \"100 %\"\n",
    "        else:\n",
    "            if len(actual_plate) == len(predict_plate):\n",
    "                for a, p in zip(actual_plate, predict_plate):\n",
    "                    if a == p:\n",
    "                        num_matches += 1\n",
    "                accuracy = str(round((num_matches / len(actual_plate)), 2) * 100)\n",
    "                accuracy += \"%\"\n",
    "        print(\"     \", actual_plate, \"\\t\\t\\t\", predict_plate, \"\\t\\t  \", accuracy)\n",
    "  \n",
    "          \n",
    "calculate_predicted_accuracy(list_license_plates, predicted_license_plates)"
   ]
  },
  {
   "cell_type": "code",
   "execution_count": null,
   "id": "25afdab4",
   "metadata": {},
   "outputs": [],
   "source": []
  }
 ],
 "metadata": {
  "kernelspec": {
   "display_name": "Python 3 (ipykernel)",
   "language": "python",
   "name": "python3"
  },
  "language_info": {
   "codemirror_mode": {
    "name": "ipython",
    "version": 3
   },
   "file_extension": ".py",
   "mimetype": "text/x-python",
   "name": "python",
   "nbconvert_exporter": "python",
   "pygments_lexer": "ipython3",
   "version": "3.9.7"
  }
 },
 "nbformat": 4,
 "nbformat_minor": 5
}
