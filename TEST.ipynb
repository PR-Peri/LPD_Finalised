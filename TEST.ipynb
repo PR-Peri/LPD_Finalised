{
 "cells": [
  {
   "cell_type": "code",
   "execution_count": 1,
   "metadata": {},
   "outputs": [],
   "source": [
    "import cv2\n",
    "import numpy as np\n",
    "import pandas as pd\n",
    "import matplotlib.pyplot as plt\n",
    "from PIL import Image\n",
    "import warnings \n",
    "import matplotlib.gridspec as gridspec\n",
    "warnings.filterwarnings(action= 'ignore')\n",
    "import matplotlib.cm as cm\n",
    "import tensorflow as tf\n",
    "from sklearn.metrics import f1_score \n",
    "from tensorflow.keras import optimizers\n",
    "from tensorflow.keras.models import Sequential\n",
    "from tensorflow.keras.layers import Dense, Flatten, MaxPooling2D, Dropout, Conv2D, Activation\n",
    "from tensorflow.keras.models import model_from_json\n",
    "from tensorflow.keras.preprocessing.image import ImageDataGenerator\n",
    "import tensorflow.keras.backend as K\n",
    "from sklearn.model_selection import train_test_split\n",
    "from sklearn.metrics import classification_report,accuracy_score,confusion_matrix\n",
    "from sklearn.preprocessing import StandardScaler\n",
    "import os\n",
    "from skimage.transform import resize\n",
    "from skimage.io import imread"
   ]
  },
  {
   "cell_type": "code",
   "execution_count": 2,
   "metadata": {},
   "outputs": [
    {
     "data": {
      "text/plain": [
       "<matplotlib.image.AxesImage at 0x1ac74938040>"
      ]
     },
     "execution_count": 2,
     "metadata": {},
     "output_type": "execute_result"
    },
    {
     "data": {
      "image/png": "[encoded data removed]",
      "text/plain": [
       "<Figure size 432x288 with 1 Axes>"
      ]
     },
     "metadata": {
      "needs_background": "light"
     },
     "output_type": "display_data"
    }
   ],
   "source": [
    "img = cv2.imread('test/Cropped_1.png', 0)\n",
    "plt.imshow(img,cmap='gray')"
   ]
  },
  {
   "cell_type": "code",
   "execution_count": 3,
   "metadata": {},
   "outputs": [
    {
     "data": {
      "text/plain": [
       "<matplotlib.image.AxesImage at 0x1ac749da6d0>"
      ]
     },
     "execution_count": 3,
     "metadata": {},
     "output_type": "execute_result"
    },
    {
     "data": {
      "image/png": "[encoded data removed]",
      "text/plain": [
       "<Figure size 432x288 with 1 Axes>"
      ]
     },
     "metadata": {
      "needs_background": "light"
     },
     "output_type": "display_data"
    }
   ],
   "source": [
    "plate_image = cv2.convertScaleAbs(img, alpha=(255.0))\n",
    "plt.imshow(plate_image,cmap='gray')"
   ]
  },
  {
   "cell_type": "code",
   "execution_count": 4,
   "metadata": {},
   "outputs": [
    {
     "data": {
      "text/plain": [
       "<matplotlib.image.AxesImage at 0x1ac74a2bd30>"
      ]
     },
     "execution_count": 4,
     "metadata": {},
     "output_type": "execute_result"
    },
    {
     "data": {
      "image/png": "[encoded data removed]",
      "text/plain": [
       "<Figure size 432x288 with 1 Axes>"
      ]
     },
     "metadata": {
      "needs_background": "light"
     },
     "output_type": "display_data"
    }
   ],
   "source": [
    "binary = cv2.threshold(img, 180, 255,cv2.THRESH_BINARY_INV + cv2.THRESH_OTSU)[1]\n",
    "plt.imshow(binary,cmap='gray')"
   ]
  },
  {
   "cell_type": "code",
   "execution_count": 5,
   "metadata": {},
   "outputs": [],
   "source": [
    "def sort_contours(cnts,reverse = False):\n",
    "        i = 0\n",
    "        boundingBoxes = [cv2.boundingRect(c) for c in cnts]\n",
    "        (cnts, boundingBoxes) = zip(*sorted(zip(cnts, boundingBoxes),key=lambda b: b[1][i], reverse=reverse))\n",
    "        return cnts\n",
    "\n",
    "cont, _  = cv2.findContours(binary, cv2.RETR_EXTERNAL, cv2.CHAIN_APPROX_SIMPLE)\n",
    "test_roi = plate_image.copy()\n",
    "    # Initialize a list which will be used to append charater image\n",
    "crop_characters = []\n",
    "# define standard width and height of character\n",
    "digit_w, digit_h = 30, 60\n",
    "for c in sort_contours(cont):\n",
    "    (x, y, w, h) = cv2.boundingRect(c)\n",
    "    ratio = h/w\n",
    "    if 1<=ratio<=3.5: # Only select contour with defined ratio\n",
    "        if h/plate_image.shape[0]>=0.5: # Select contour which has the height larger than 50% of the plate\n",
    "            # Draw bounding box arroung digit number\n",
    "            cv2.rectangle(test_roi, (x, y), (x + w, y + h), (0, 255,0), 2)\n",
    "            # Sperate number and gibe prediction\n",
    "            curr_num = binary[y:y+h,x:x+w]\n",
    "            curr_num = cv2.resize(curr_num, dsize=(digit_w, digit_h))\n",
    "            _, curr_num = cv2.threshold(curr_num, 220, 255, cv2.THRESH_BINARY + cv2.THRESH_OTSU)\n",
    "            crop_characters.append(curr_num)   "
   ]
  },
  {
   "cell_type": "code",
   "execution_count": 6,
   "metadata": {},
   "outputs": [],
   "source": [
    "Categories=['0', '1', '2', '3', '4', '5',\n",
    "            '6', '7', '8', '9', 'A', 'B',\n",
    "            'C', 'D', 'E', 'F', 'G', 'H',\n",
    "            'I', 'J', 'K', 'L', 'M', 'N',\n",
    "            'O', 'P', 'Q', 'R', 'S', 'T',\n",
    "            'U', 'V', 'W', 'X', 'Y', 'Z']"
   ]
  },
  {
   "cell_type": "code",
   "execution_count": 7,
   "metadata": {},
   "outputs": [],
   "source": [
    "def load_keras_model(model_name):\n",
    "    # Load json and create model\n",
    "        json_file = open('./{}.json'.format(model_name), 'r')\n",
    "        loaded_model_json = json_file.read()\n",
    "        json_file.close()\n",
    "        model = model_from_json(loaded_model_json)\n",
    "        # Load weights into new model\n",
    "        model.load_weights(\"./{}.h5\".format(model_name))\n",
    "        return model  \n",
    "    \n",
    "# store_keras_model(model, 'model_License_Plate')\n",
    "pre_trained_model = load_keras_model('model_License_Plate')\n",
    "model = pre_trained_model\n",
    "output = []"
   ]
  },
  {
   "cell_type": "code",
   "execution_count": 8,
   "metadata": {},
   "outputs": [],
   "source": [
    "def fix_dimension(img):\n",
    "    new_img = np.zeros((28,28,3))\n",
    "    for i in range(3):\n",
    "        new_img[:,:,i] = img \n",
    "    return new_img\n"
   ]
  },
  {
   "cell_type": "code",
   "execution_count": 9,
   "metadata": {},
   "outputs": [],
   "source": [
    "for i,ch in enumerate(crop_characters): #iterating over the characters\n",
    "    img_ = cv2.resize(ch, (28,28), interpolation=cv2.INTER_AREA)\n",
    "    img = fix_dimension(img_)\n",
    "    img = img.reshape(1,28,28,3) #preparing image for the model\n",
    "    y_ = model.predict_classes(img)[0] #predicting the class\n",
    "    character = Categories[y_] #\n",
    "    output.append(character) #storing the result in a list\n",
    "\n",
    "plate_number = ''.join(output)"
   ]
  },
  {
   "cell_type": "code",
   "execution_count": 10,
   "metadata": {},
   "outputs": [
    {
     "name": "stdout",
     "output_type": "stream",
     "text": [
      "WE46LE\n"
     ]
    }
   ],
   "source": [
    "print(plate_number)"
   ]
  },
  {
   "cell_type": "code",
   "execution_count": 11,
   "metadata": {},
   "outputs": [
    {
     "name": "stdout",
     "output_type": "stream",
     "text": [
      "['W', 'E', '4', '6', 'L', 'E']\n"
     ]
    }
   ],
   "source": [
    "print(output)"
   ]
  },
  {
   "cell_type": "code",
   "execution_count": 6,
   "metadata": {},
   "outputs": [
    {
     "data": {
      "image/png": "[encoded data removed]",
      "text/plain": [
       "<Figure size 720x432 with 1 Axes>"
      ]
     },
     "metadata": {
      "needs_background": "light"
     },
     "output_type": "display_data"
    }
   ],
   "source": [
    "# libraries\n",
    "import numpy as np\n",
    "import matplotlib.pyplot as plt\n",
    " \n",
    "# set width of bar\n",
    "barWidth = 0.20\n",
    "# set height of bar\n",
    "accuracy = [52.01,33.51,24.54]\n",
    "precision = [53.23,33.98,24.96]\n",
    "recall = [67.6,48.04,44.98]\n",
    "\n",
    "# Set position of bar on X axis\n",
    "r1 = np.arange(len(accuracy))\n",
    "r2 = [x + barWidth for x in r1]\n",
    "r3 = [x + barWidth for x in r2]\n",
    "\n",
    "# Make the plot\n",
    "plt.bar(r1, accuracy, color='#13B616', width=barWidth, edgecolor='white', label='Accuracy')\n",
    "plt.bar(r2, precision, color='#1382B6', width=barWidth, edgecolor='white', label='Precision')\n",
    "plt.bar(r3, recall, color='#800517', width=barWidth, edgecolor='white', label='Recall')\n",
    "\n",
    "# Add xticks on the middle of the group bars\n",
    "plt.xlabel('Machine Learning Algorithms', fontweight='bold')\n",
    "plt.xticks([r + barWidth for r in range(len(accuracy))], ['OCR', 'ANN', 'RF'])\n",
    "plt.title(\"Result comparison among the Algorithms\",fontweight=30)\n",
    "plt.rcParams['figure.figsize'] = (10,6 )\n",
    "\n",
    "# Create legend & Show graphic\n",
    "plt.legend(bbox_to_anchor=(1.15, 1.05))\n",
    "plt.show()"
   ]
  },
  {
   "cell_type": "code",
   "execution_count": 1,
   "metadata": {},
   "outputs": [
    {
     "data": {
      "image/png": "[encoded data removed]",
      "text/plain": [
       "<Figure size 432x288 with 1 Axes>"
      ]
     },
     "metadata": {
      "needs_background": "light"
     },
     "output_type": "display_data"
    }
   ],
   "source": [
    "# libraries\n",
    "import numpy as np\n",
    "import matplotlib.pyplot as plt\n",
    " \n",
    "# set width of bar\n",
    "barWidth = 0.20\n",
    "# set height of bar\n",
    "accuracy = [52.01,6.92,6.88]\n",
    "precision = [51.98,7.36,8.83]\n",
    "recall = [57.89,7.47,9.35]\n",
    "\n",
    "# Set position of bar on X axis\n",
    "r1 = np.arange(len(accuracy))\n",
    "r2 = [x + barWidth for x in r1]\n",
    "r3 = [x + barWidth for x in r2]\n",
    "\n",
    "# Make the plot\n",
    "plt.bar(r1, accuracy, color='#13B616', width=barWidth, edgecolor='white', label='Accuracy')\n",
    "plt.bar(r2, precision, color='#1382B6', width=barWidth, edgecolor='white', label='Precision')\n",
    "plt.bar(r3, recall, color='#800517', width=barWidth, edgecolor='white', label='Recall')\n",
    "\n",
    "# Add xticks on the middle of the group bars\n",
    "plt.xlabel('Machine Learning Algorithms', fontweight='bold')\n",
    "plt.xticks([r + barWidth for r in range(len(accuracy))], ['OCR', 'ANN', 'RF'])\n",
    "plt.title(\"Result comparison among the Algorithms\",fontweight=30)\n",
    "plt.rcParams['figure.figsize'] = (10,6 )\n",
    "\n",
    "# Create legend & Show graphic\n",
    "plt.legend(bbox_to_anchor=(1.15, 1.05))\n",
    "plt.show()"
   ]
  },
  {
   "cell_type": "code",
   "execution_count": null,
   "metadata": {},
   "outputs": [],
   "source": []
  }
 ],
 "metadata": {
  "kernelspec": {
   "display_name": "Python 3",
   "language": "python",
   "name": "python3"
  },
  "language_info": {
   "codemirror_mode": {
    "name": "ipython",
    "version": 3
   },
   "file_extension": ".py",
   "mimetype": "text/x-python",
   "name": "python",
   "nbconvert_exporter": "python",
   "pygments_lexer": "ipython3",
   "version": "3.8.5"
  }
 },
 "nbformat": 4,
 "nbformat_minor": 4
}
